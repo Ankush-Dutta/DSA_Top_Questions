{
 "cells": [
  {
   "cell_type": "markdown",
   "metadata": {},
   "source": [
    "Array and Strings"
   ]
  },
  {
   "cell_type": "code",
   "execution_count": 7,
   "metadata": {},
   "outputs": [
    {
     "data": {
      "text/plain": [
       "[2, 3]"
      ]
     },
     "execution_count": 7,
     "metadata": {},
     "output_type": "execute_result"
    }
   ],
   "source": [
    "#Two Sum\n",
    "\n",
    "class Solution:\n",
    "    def TwoSum(self,arr, target):\n",
    "        if not arr:\n",
    "            return 0\n",
    "        num_map = {}\n",
    "        for i, num in enumerate(arr):\n",
    "            complement = target - num\n",
    "            if complement in num_map:\n",
    "                return [num_map[complement], i]\n",
    "            num_map[num] = i\n",
    "        return []\n",
    "\n",
    "\n",
    "sol = Solution()\n",
    "sol.TwoSum([1,2,3,4,5], 7)\n",
    "                \n"
   ]
  },
  {
   "cell_type": "code",
   "execution_count": 9,
   "metadata": {},
   "outputs": [
    {
     "data": {
      "text/plain": [
       "(0, 4)"
      ]
     },
     "execution_count": 9,
     "metadata": {},
     "output_type": "execute_result"
    }
   ],
   "source": [
    "#Two Sum -> O(n2) approach\n",
    "\n",
    "class Solution:\n",
    "    def TwoSum_classical(self, arr, target):\n",
    "        for i in range(len(arr)):\n",
    "            for j in range(i+1, len(arr)):\n",
    "                if arr[i] + arr[j] == target:\n",
    "                    return i, j\n",
    "\n",
    "sol = Solution()\n",
    "sol.TwoSum_classical([1,2,3,4,5], 6)"
   ]
  },
  {
   "cell_type": "code",
   "execution_count": 13,
   "metadata": {},
   "outputs": [
    {
     "data": {
      "text/plain": [
       "6"
      ]
     },
     "execution_count": 13,
     "metadata": {},
     "output_type": "execute_result"
    }
   ],
   "source": [
    "#Maximum Subarray (Kadane’s Algorithm)\n",
    "\n",
    "def Kadane(arr):\n",
    "    max_sum = float('-inf')\n",
    "    current_sum = 0\n",
    "    for i in arr:\n",
    "        current_sum = max(i, current_sum + i )\n",
    "        max_sum = max(current_sum, max_sum)\n",
    "    \n",
    "    return max_sum\n",
    "\n",
    "arr = [-2,1,-3,4,-1,2,1,-5,4]\n",
    "Kadane(arr)\n",
    "\n"
   ]
  },
  {
   "cell_type": "code",
   "execution_count": 15,
   "metadata": {},
   "outputs": [
    {
     "data": {
      "text/plain": [
       "[[1, 6], [8, 10], [15, 18]]"
      ]
     },
     "execution_count": 15,
     "metadata": {},
     "output_type": "execute_result"
    }
   ],
   "source": [
    "#Merge Intervals\n",
    "\n",
    "def merge_intervals(intervals):\n",
    "    if not intervals:\n",
    "        return []\n",
    "\n",
    "    intervals.sort(key=lambda x: x[0])\n",
    "\n",
    "    merged = [intervals[0]]  \n",
    "\n",
    "    for current in intervals[1:]:\n",
    "        last = merged[-1]  \n",
    "\n",
    "        if current[0] <= last[1]:  \n",
    "            last[1] = max(last[1], current[1])  \n",
    "        else:\n",
    "            merged.append(current) \n",
    "\n",
    "    return merged\n",
    "intervals = [[1,3],[2,6],[8,10],[15,18]]\n",
    "merge_intervals(intervals)\n"
   ]
  },
  {
   "cell_type": "code",
   "execution_count": 2,
   "metadata": {},
   "outputs": [
    {
     "data": {
      "text/plain": [
       "49"
      ]
     },
     "execution_count": 2,
     "metadata": {},
     "output_type": "execute_result"
    }
   ],
   "source": [
    "#Container with most water\n",
    "\n",
    "def max_area(height):\n",
    "    left, right = 0, len(height) - 1\n",
    "    max_water = 0\n",
    "\n",
    "    while left < right:\n",
    "        max_water = max(max_water, (right - left) * min(height[left], height[right]))\n",
    "\n",
    "        if height[left] < height[right]:  \n",
    "            left += 1  \n",
    "        else:\n",
    "            right -= 1  \n",
    "\n",
    "    return max_water\n",
    "\n",
    "height = [1,8,6,2,5,4,8,3,7]\n",
    "max_area(height)\n"
   ]
  },
  {
   "cell_type": "code",
   "execution_count": 3,
   "metadata": {},
   "outputs": [
    {
     "name": "stdout",
     "output_type": "stream",
     "text": [
      "3\n"
     ]
    }
   ],
   "source": [
    "#Longest Substring Without Repeating Characters\n",
    "\n",
    "def length_of_longest_substring(s):\n",
    "    char_set = set()\n",
    "    left = 0\n",
    "    max_length = 0\n",
    "\n",
    "    for right in range(len(s)):\n",
    "        while s[right] in char_set:  \n",
    "            char_set.remove(s[left])\n",
    "            left += 1\n",
    "        char_set.add(s[right])\n",
    "        max_length = max(max_length, right - left + 1)\n",
    "\n",
    "    return max_length\n",
    "\n",
    "s = \"abcabcbb\"\n",
    "print(length_of_longest_substring(s))  \n"
   ]
  },
  {
   "cell_type": "code",
   "execution_count": null,
   "metadata": {},
   "outputs": [
    {
     "name": "stdout",
     "output_type": "stream",
     "text": [
      "[(-1, 0, 1), (-1, -1, 2)]\n"
     ]
    }
   ],
   "source": [
    "#Three Sum\n",
    "\n",
    "def three_sum(nums):\n",
    "    nums.sort() \n",
    "    result = set()  \n",
    "\n",
    "    for i in range(len(nums) - 2):\n",
    "        seen = set()\n",
    "        target = -nums[i]\n",
    "\n",
    "        for j in range(i + 1, len(nums)):\n",
    "            complement = target - nums[j]\n",
    "            if complement in seen:\n",
    "                result.add((nums[i], complement, nums[j]))  \n",
    "            seen.add(nums[j])\n",
    "\n",
    "    return list(result)  \n",
    "\n",
    "nums = [-1, 0, 1, 2, -1, -4]\n",
    "print(three_sum(nums))  \n",
    "\n",
    "\n"
   ]
  },
  {
   "cell_type": "markdown",
   "metadata": {},
   "source": [
    "LINKED LIST"
   ]
  },
  {
   "cell_type": "code",
   "execution_count": 1,
   "metadata": {},
   "outputs": [
    {
     "name": "stdout",
     "output_type": "stream",
     "text": [
      "5 -> 4 -> 3 -> 2 -> 1 -> None\n"
     ]
    }
   ],
   "source": [
    "#Reverse a LL\n",
    "\n",
    "class ListNode:\n",
    "    def __init__(self, val=0, next=None):\n",
    "        self.val = val\n",
    "        self.next = next\n",
    "\n",
    "def reverse_list(head):\n",
    "    prev = None\n",
    "    curr = head\n",
    "\n",
    "    while curr:\n",
    "        next_node = curr.next  \n",
    "        curr.next = prev       \n",
    "        prev = curr            \n",
    "        curr = next_node       \n",
    "\n",
    "    return prev  \n",
    "\n",
    "def list_to_linked_list(arr):\n",
    "    if not arr:\n",
    "        return None\n",
    "    head = ListNode(arr[0])\n",
    "    current = head\n",
    "    for val in arr[1:]:\n",
    "        current.next = ListNode(val)\n",
    "        current = current.next\n",
    "    return head\n",
    "\n",
    "def print_linked_list(head):\n",
    "    while head:\n",
    "        print(head.val, end=\" -> \")\n",
    "        head = head.next\n",
    "    print(\"None\")\n",
    "\n",
    "head = list_to_linked_list([1, 2, 3, 4, 5])\n",
    "\n",
    "reversed_head = reverse_list(head)\n",
    "print_linked_list(reversed_head)\n"
   ]
  },
  {
   "cell_type": "code",
   "execution_count": null,
   "metadata": {},
   "outputs": [
    {
     "name": "stdout",
     "output_type": "stream",
     "text": [
      "True\n"
     ]
    }
   ],
   "source": [
    "#Detect Cycle in a Linked List\n",
    "\n",
    "class ListNode:\n",
    "    def __init__(self, val=0, next=None):\n",
    "        self.val = val\n",
    "        self.next = next\n",
    "\n",
    "def has_cycle(head):\n",
    "    slow, fast = head, head\n",
    "\n",
    "    while fast and fast.next:\n",
    "        slow = slow.next  \n",
    "        fast = fast.next.next  \n",
    "\n",
    "        if slow == fast:  \n",
    "            return True\n",
    "\n",
    "    return False  \n",
    "\n",
    "def create_linked_list(arr, pos):\n",
    "    if not arr:\n",
    "        return None\n",
    "\n",
    "    nodes = [ListNode(val) for val in arr]\n",
    "    \n",
    "    for i in range(len(arr) - 1):\n",
    "        nodes[i].next = nodes[i + 1]\n",
    "\n",
    "    if pos != -1:  \n",
    "        nodes[-1].next = nodes[pos]\n",
    "\n",
    "    return nodes[0]  \n",
    "\n",
    "head_with_cycle = create_linked_list([3, 2, 0, -4], 1)\n",
    "print(has_cycle(head_with_cycle))"
   ]
  },
  {
   "cell_type": "code",
   "execution_count": 4,
   "metadata": {},
   "outputs": [
    {
     "name": "stdout",
     "output_type": "stream",
     "text": [
      "1 -> 1 -> 2 -> 3 -> 4 -> 4 -> None\n"
     ]
    }
   ],
   "source": [
    "#Merge two sorted lists\n",
    "\n",
    "class ListNode:\n",
    "    def __init__(self, val=0, next=None):\n",
    "        self.val = val\n",
    "        self.next = next\n",
    "\n",
    "def merge_two_lists(list1, list2):\n",
    "    dummy = ListNode()\n",
    "    curr = dummy\n",
    "\n",
    "    while list1 and list2:\n",
    "        if list1.val < list2.val:\n",
    "            curr.next = list1\n",
    "            list1 = list1.next\n",
    "        else:\n",
    "            curr.next = list2\n",
    "            list2 = list2.next\n",
    "        curr = curr.next\n",
    "\n",
    "    curr.next = list1 if list1 else list2 \n",
    "    return dummy.next\n",
    "\n",
    "def list_to_linked_list(arr):\n",
    "    if not arr:\n",
    "        return None\n",
    "    head = ListNode(arr[0])\n",
    "    current = head\n",
    "    for val in arr[1:]:\n",
    "        current.next = ListNode(val)\n",
    "        current = current.next\n",
    "    return head\n",
    "\n",
    "def linked_list_to_list(head):\n",
    "    result = []\n",
    "    while head:\n",
    "        result.append(head.val)\n",
    "        head = head.next\n",
    "    return result\n",
    "\n",
    "def print_linked_list(head):\n",
    "    while head:\n",
    "        print(head.val, end=\" -> \")\n",
    "        head = head.next\n",
    "    print(\"None\")\n",
    "\n",
    "# Example usage\n",
    "list1 = list_to_linked_list([1, 2, 4])\n",
    "list2 = list_to_linked_list([1, 3, 4])\n",
    "\n",
    "merged_head = merge_two_lists(list1, list2)\n",
    "print_linked_list(merged_head)\n"
   ]
  },
  {
   "cell_type": "code",
   "execution_count": 5,
   "metadata": {},
   "outputs": [],
   "source": [
    "#Intersection of two Linked List\n",
    "\n",
    "def get_intersection_node(headA, headB):\n",
    "    if not headA or not headB:\n",
    "        return None\n",
    "\n",
    "    a, b = headA, headB\n",
    "\n",
    "    while a != b:\n",
    "        a = a.next if a else headB\n",
    "        b = b.next if b else headA\n",
    "\n",
    "    return a \n",
    "\n"
   ]
  },
  {
   "cell_type": "code",
   "execution_count": 6,
   "metadata": {},
   "outputs": [],
   "source": [
    "#remove Nth node from end\n",
    "\n",
    "def remove_nth_from_end(head, n):\n",
    "    dummy = ListNode(0, head)\n",
    "    slow, fast = dummy, dummy\n",
    "\n",
    "    for _ in range(n + 1):  \n",
    "        fast = fast.next\n",
    "\n",
    "    while fast:\n",
    "        slow = slow.next\n",
    "        fast = fast.next\n",
    "\n",
    "    slow.next = slow.next.next  \n",
    "    return dummy.next\n"
   ]
  },
  {
   "cell_type": "markdown",
   "metadata": {},
   "source": [
    "STACK AND QUEUE"
   ]
  },
  {
   "cell_type": "code",
   "execution_count": 9,
   "metadata": {},
   "outputs": [
    {
     "name": "stdout",
     "output_type": "stream",
     "text": [
      "True\n",
      "False\n"
     ]
    }
   ],
   "source": [
    "#Valid Parenthesis\n",
    "\n",
    "def valid_parenthesis(s):\n",
    "    stack = []\n",
    "    mapping = {')':'(', '}':'{', ']':'['}\n",
    "    for char in s:\n",
    "        if char in mapping:\n",
    "            top = stack.pop() if stack else '#'\n",
    "            if mapping[char] != top:\n",
    "                return False\n",
    "        else:\n",
    "            stack.append(char)\n",
    "\n",
    "    return not stack\n",
    "\n",
    "print(valid_parenthesis(\"()\"))\n",
    "print(valid_parenthesis(\"()}\"))"
   ]
  },
  {
   "cell_type": "code",
   "execution_count": 7,
   "metadata": {},
   "outputs": [],
   "source": [
    "#Next Greater Element\n",
    "\n",
    "def next_greater_element(num1, num2):\n",
    "    stack = []\n",
    "    greater_map = {}\n",
    "    for num in num2:\n",
    "        while stack and stack[-1] < num:\n",
    "            greater_map[stack.pop()] = num\n",
    "        stack.append(num)\n",
    "    \n",
    "    return [greater_map.get(num, -1) for num in num2]"
   ]
  },
  {
   "cell_type": "code",
   "execution_count": 10,
   "metadata": {},
   "outputs": [
    {
     "name": "stdout",
     "output_type": "stream",
     "text": [
      "-3\n",
      "0\n",
      "-2\n"
     ]
    }
   ],
   "source": [
    "#Min Stack\n",
    "\n",
    "class MinStack:\n",
    "    def __init__(self):\n",
    "        self.stack = []\n",
    "        self.min_stack = []  # Stores minimum values\n",
    "\n",
    "    def push(self, val):\n",
    "        self.stack.append(val)\n",
    "        # Push to min_stack only if it's the new minimum\n",
    "        if not self.min_stack or val <= self.min_stack[-1]:\n",
    "            self.min_stack.append(val)\n",
    "\n",
    "    def pop(self):\n",
    "        if self.stack:\n",
    "            if self.stack[-1] == self.min_stack[-1]:\n",
    "                self.min_stack.pop()\n",
    "            self.stack.pop()\n",
    "\n",
    "    def top(self):\n",
    "        return self.stack[-1] if self.stack else None\n",
    "\n",
    "    def getMin(self):\n",
    "        return self.min_stack[-1] if self.min_stack else None\n",
    "\n",
    "minStack = MinStack()\n",
    "minStack.push(-2)\n",
    "minStack.push(0)\n",
    "minStack.push(-3)\n",
    "print(minStack.getMin())  # Output: -3\n",
    "minStack.pop()\n",
    "print(minStack.top())     # Output: 0\n",
    "print(minStack.getMin())  # Output: -2\n"
   ]
  },
  {
   "cell_type": "code",
   "execution_count": 12,
   "metadata": {},
   "outputs": [
    {
     "name": "stdout",
     "output_type": "stream",
     "text": [
      "[3, 3, 5, 5, 6, 7]\n"
     ]
    }
   ],
   "source": [
    "#Sliding Window Maximum\n",
    "\n",
    "from collections import deque\n",
    "\n",
    "def max_sliding_window(nums, k):\n",
    "    if not nums:\n",
    "        return []\n",
    "    dq = deque()\n",
    "    result = []\n",
    "\n",
    "    for i in range(len(nums)):\n",
    "        if dq and dq[0] < i-k+1:\n",
    "            dq.popleft()\n",
    "        \n",
    "        while dq and nums[dq[-1]] < nums[i]:\n",
    "            dq.pop()\n",
    "        dq.append(i)\n",
    "\n",
    "        if i>= k-1:\n",
    "            result.append(nums[dq[0]])\n",
    "    \n",
    "    return result\n",
    "\n",
    "print(max_sliding_window([1,3,-1,-3,5,3,6,7], 3))  \n",
    "\n",
    "\n"
   ]
  },
  {
   "cell_type": "code",
   "execution_count": null,
   "metadata": {},
   "outputs": [
    {
     "name": "stdout",
     "output_type": "stream",
     "text": [
      "1\n",
      "1\n",
      "False\n"
     ]
    }
   ],
   "source": [
    "#Implement Queue using Stack\n",
    "\n",
    "class MyQueue:\n",
    "    def __init__(self):\n",
    "        self.s1 = []  # Push stack\n",
    "        self.s2 = []  # Pop stack\n",
    "\n",
    "    def push(self, x):\n",
    "        self.s1.append(x)\n",
    "\n",
    "    def pop(self):\n",
    "        self._shift_stacks()\n",
    "        return self.s2.pop() if self.s2 else None\n",
    "\n",
    "    def peek(self):\n",
    "        self._shift_stacks()\n",
    "        return self.s2[-1] if self.s2 else None\n",
    "\n",
    "    def empty(self):\n",
    "        return not self.s1 and not self.s2\n",
    "\n",
    "    def _shift_stacks(self):\n",
    "        if not self.s2:  # Move elements only if s2 is empty\n",
    "            while self.s1:\n",
    "                self.s2.append(self.s1.pop())\n",
    "\n",
    "q = MyQueue()\n",
    "q.push(1)\n",
    "q.push(2)\n",
    "print(q.peek())  \n",
    "print(q.pop())   \n",
    "print(q.empty()) \n"
   ]
  },
  {
   "cell_type": "markdown",
   "metadata": {},
   "source": [
    "Recursion and Backtracking"
   ]
  },
  {
   "cell_type": "code",
   "execution_count": 16,
   "metadata": {},
   "outputs": [],
   "source": [
    "#Subsets\n",
    "\n",
    "def subsets(nums):\n",
    "    res = []\n",
    "    \n",
    "    def backtrack(start, path):\n",
    "        res.append(path[:])  # Store current subset\n",
    "        for i in range(start, len(nums)):\n",
    "            path.append(nums[i])\n",
    "            backtrack(i + 1, path)\n",
    "            path.pop()  # Backtrack\n",
    "        \n",
    "    backtrack(0, [])\n",
    "    return res\n"
   ]
  },
  {
   "cell_type": "code",
   "execution_count": 17,
   "metadata": {},
   "outputs": [],
   "source": [
    "#Combination Sum\n",
    "\n",
    "def combination_sum(candidates, target):\n",
    "    res = []\n",
    "    \n",
    "    def backtrack(start, path, target):\n",
    "        if target == 0:\n",
    "            res.append(path[:])\n",
    "            return\n",
    "        for i in range(start, len(candidates)):\n",
    "            if candidates[i] > target:\n",
    "                continue\n",
    "            path.append(candidates[i])\n",
    "            backtrack(i, path, target - candidates[i])  # Reuse same element\n",
    "            path.pop()\n",
    "    \n",
    "    backtrack(0, [], target)\n",
    "    return res\n"
   ]
  },
  {
   "cell_type": "code",
   "execution_count": 18,
   "metadata": {},
   "outputs": [],
   "source": [
    "#Permutations\n",
    "\n",
    "def permute(nums):\n",
    "    res = []\n",
    "    \n",
    "    def backtrack(path, remaining):\n",
    "        if not remaining:\n",
    "            res.append(path[:])\n",
    "            return\n",
    "        for i in range(len(remaining)):\n",
    "            backtrack(path + [remaining[i]], remaining[:i] + remaining[i+1:])\n",
    "    \n",
    "    backtrack([], nums)\n",
    "    return res\n"
   ]
  },
  {
   "cell_type": "code",
   "execution_count": 19,
   "metadata": {},
   "outputs": [],
   "source": [
    "#Word Search\n",
    "\n",
    "def exist(board, word):\n",
    "    rows, cols = len(board), len(board[0])\n",
    "\n",
    "    def dfs(r, c, index):\n",
    "        if index == len(word):\n",
    "            return True\n",
    "        if r < 0 or r >= rows or c < 0 or c >= cols or board[r][c] != word[index]:\n",
    "            return False\n",
    "        \n",
    "        temp, board[r][c] = board[r][c], \"#\"  # Mark visited\n",
    "        found = (dfs(r+1, c, index+1) or \n",
    "                 dfs(r-1, c, index+1) or \n",
    "                 dfs(r, c+1, index+1) or \n",
    "                 dfs(r, c-1, index+1))\n",
    "        board[r][c] = temp  # Restore cell\n",
    "        return found\n",
    "    \n",
    "    for r in range(rows):\n",
    "        for c in range(cols):\n",
    "            if board[r][c] == word[0] and dfs(r, c, 0):\n",
    "                return True\n",
    "    return False\n"
   ]
  },
  {
   "cell_type": "code",
   "execution_count": 20,
   "metadata": {},
   "outputs": [],
   "source": [
    "#N-Queen Problem\n",
    "\n",
    "def solve_n_queens(n):\n",
    "    res = []\n",
    "    board = [[\".\"] * n for _ in range(n)]\n",
    "    cols, diag1, diag2 = set(), set(), set()\n",
    "\n",
    "    def backtrack(r):\n",
    "        if r == n:\n",
    "            res.append([\"\".join(row) for row in board])\n",
    "            return\n",
    "        for c in range(n):\n",
    "            if c in cols or (r+c) in diag1 or (r-c) in diag2:\n",
    "                continue\n",
    "            board[r][c] = \"Q\"\n",
    "            cols.add(c)\n",
    "            diag1.add(r+c)\n",
    "            diag2.add(r-c)\n",
    "            backtrack(r+1)\n",
    "            board[r][c] = \".\"\n",
    "            cols.remove(c)\n",
    "            diag1.remove(r+c)\n",
    "            diag2.remove(r-c)\n",
    "    \n",
    "    backtrack(0)\n",
    "    return res\n"
   ]
  },
  {
   "cell_type": "markdown",
   "metadata": {},
   "source": [
    "BINARY TREE AND BSTs"
   ]
  },
  {
   "cell_type": "code",
   "execution_count": 2,
   "metadata": {},
   "outputs": [
    {
     "name": "stdout",
     "output_type": "stream",
     "text": [
      "Inorder: [2, 1, 3]\n",
      "Preorder: [1, 2, 3]\n",
      "Postorder: [2, 3, 1]\n"
     ]
    }
   ],
   "source": [
    "#Tree Traversal\n",
    "\n",
    "class TreeNode:\n",
    "    def __init__(self, val=0, left=None, right=None):\n",
    "        self.val = val\n",
    "        self.left = left\n",
    "        self.right = right\n",
    "\n",
    "def inorder(root):\n",
    "    return inorder(root.left) + [root.val] + inorder(root.right) if root else []\n",
    "\n",
    "def preorder(root):\n",
    "    return [root.val] + preorder(root.left) + preorder(root.right) if root else []\n",
    "\n",
    "def postorder(root):\n",
    "    return postorder(root.left) + postorder(root.right) + [root.val] if root else []\n",
    "\n",
    "root = TreeNode(1, TreeNode(2), TreeNode(3))\n",
    "print(\"Inorder:\", inorder(root))  \n",
    "print(\"Preorder:\", preorder(root))  \n",
    "print(\"Postorder:\", postorder(root))  \n"
   ]
  },
  {
   "cell_type": "code",
   "execution_count": 1,
   "metadata": {},
   "outputs": [],
   "source": [
    "# Lowest Common Ancestor\n",
    "\n",
    "def lca(root, p, q):\n",
    "    if not root or root == p or root == q:\n",
    "        return root\n",
    "    left = lca(root.left, p, q)\n",
    "    right = lca(root.right, p, q)\n",
    "    return root if left and right else left or right\n"
   ]
  },
  {
   "cell_type": "code",
   "execution_count": 2,
   "metadata": {},
   "outputs": [],
   "source": [
    "#Balanced Binary tree\n",
    "\n",
    "def is_balanced(root):\n",
    "    def height(node):\n",
    "        if not node: return 0\n",
    "        left = height(node.left)\n",
    "        right = height(node.right)\n",
    "        if abs(left - right) > 1:\n",
    "            return -1\n",
    "        return max(left, right) + 1\n",
    "    \n",
    "    return height(root) != -1\n"
   ]
  },
  {
   "cell_type": "code",
   "execution_count": 3,
   "metadata": {},
   "outputs": [],
   "source": [
    "#Level Order Traversal\n",
    "\n",
    "from collections import deque\n",
    "\n",
    "def level_order(root):\n",
    "    if not root: return []\n",
    "    queue, res = deque([root]), []\n",
    "    while queue:\n",
    "        level = []\n",
    "        for _ in range(len(queue)):\n",
    "            node = queue.popleft()\n",
    "            level.append(node.val)\n",
    "            if node.left: queue.append(node.left)\n",
    "            if node.right: queue.append(node.right)\n",
    "        res.append(level)\n",
    "    return res\n"
   ]
  },
  {
   "cell_type": "code",
   "execution_count": 5,
   "metadata": {},
   "outputs": [],
   "source": [
    "#Validate BST\n",
    "\n",
    "def is_valid_bst(root, low=float('-inf'), high=float('inf')):\n",
    "    if not root:\n",
    "        return True\n",
    "    if not (low < root.val < high):\n",
    "        return False\n",
    "    return is_valid_bst(root.left, low, root.val) and is_valid_bst(root.right, root.val, high)\n"
   ]
  },
  {
   "cell_type": "markdown",
   "metadata": {},
   "source": [
    "BINARY SEARCH AND SORTING"
   ]
  },
  {
   "cell_type": "code",
   "execution_count": 29,
   "metadata": {},
   "outputs": [
    {
     "data": {
      "text/plain": [
       "4"
      ]
     },
     "execution_count": 29,
     "metadata": {},
     "output_type": "execute_result"
    }
   ],
   "source": [
    "#Binary Search\n",
    "\n",
    "def binary_search(arr, target):\n",
    "    if not arr:\n",
    "        return 0\n",
    "    left , right = 0, len(arr)-1\n",
    "    while left<=right:\n",
    "        mid = (left+right)//2\n",
    "        if arr[mid] == target:\n",
    "            return mid + 1\n",
    "        elif arr[mid] > target:\n",
    "            right = mid-1\n",
    "        else:\n",
    "            left = mid+1\n",
    "    return -1\n",
    "\n",
    "binary_search([1,2,3,4,5],4)"
   ]
  },
  {
   "cell_type": "code",
   "execution_count": 31,
   "metadata": {},
   "outputs": [
    {
     "name": "stdout",
     "output_type": "stream",
     "text": [
      "3\n"
     ]
    }
   ],
   "source": [
    "#Search Rotated Array\n",
    "\n",
    "def search_rotated(arr, target):\n",
    "    left, right = 0, len(arr) - 1\n",
    "    while left <= right:\n",
    "        mid = (left + right) // 2\n",
    "        if arr[mid] == target:\n",
    "            return mid\n",
    "        if arr[left] <= arr[mid]:  # Left half is sorted\n",
    "            if arr[left] <= target < arr[mid]:\n",
    "                right = mid - 1\n",
    "            else:\n",
    "                left = mid + 1\n",
    "        else:  # Right half is sorted\n",
    "            if arr[mid] < target <= arr[right]:\n",
    "                left = mid + 1\n",
    "            else:\n",
    "                right = mid - 1\n",
    "    return -1\n",
    "\n",
    "arr = [4, 5, 6, 7, 0, 1, 2]\n",
    "print(search_rotated(arr, 7)) \n"
   ]
  },
  {
   "cell_type": "code",
   "execution_count": 38,
   "metadata": {},
   "outputs": [
    {
     "name": "stdout",
     "output_type": "stream",
     "text": [
      "12\n"
     ]
    }
   ],
   "source": [
    "#Find Peak Element\n",
    "\n",
    "def find_peak(nums):\n",
    "    left, right = 0, len(nums) - 1\n",
    "    while left < right:\n",
    "        mid = (left + right) // 2\n",
    "        if nums[mid] > nums[mid + 1]:  \n",
    "            right = mid\n",
    "        else:  \n",
    "            left = mid + 1\n",
    "    return left \n",
    "\n",
    "arr = [1, 2, 4, 8, 16, 32, 64, 128, 256, 512, 1024, 2048, 4096]\n",
    "print(find_peak(arr))  \n"
   ]
  },
  {
   "cell_type": "code",
   "execution_count": 42,
   "metadata": {},
   "outputs": [
    {
     "data": {
      "text/plain": [
       "[0, 1, 3, 5, 7, 11, 12]"
      ]
     },
     "execution_count": 42,
     "metadata": {},
     "output_type": "execute_result"
    }
   ],
   "source": [
    "#Quick Sort\n",
    "\n",
    "def Quick_sort(arr):\n",
    "    if len(arr)<=1:\n",
    "        return arr\n",
    "    pivot = arr[len(arr)//2]\n",
    "    left = [x for x in arr if x<pivot]\n",
    "    right = [x for x in arr if x>pivot]\n",
    "    mid = [x for x in arr if x == pivot]\n",
    "    return Quick_sort(left) + Quick_sort(mid) + Quick_sort(right)\n",
    "\n",
    "arr = [3,11,0,5,7,1,12]\n",
    "Quick_sort(arr)"
   ]
  },
  {
   "cell_type": "code",
   "execution_count": 43,
   "metadata": {},
   "outputs": [
    {
     "name": "stdout",
     "output_type": "stream",
     "text": [
      "[1, 1, 2, 3, 6, 8, 10]\n"
     ]
    }
   ],
   "source": [
    "#Merge Sort\n",
    "\n",
    "def merge_sort(arr):\n",
    "    if len(arr) <= 1:\n",
    "        return arr\n",
    "    mid = len(arr) // 2\n",
    "    left = merge_sort(arr[:mid])\n",
    "    right = merge_sort(arr[mid:])\n",
    "    \n",
    "    sorted_arr = []\n",
    "    i = j = 0\n",
    "    while i < len(left) and j < len(right):\n",
    "        if left[i] < right[j]:\n",
    "            sorted_arr.append(left[i])\n",
    "            i += 1\n",
    "        else:\n",
    "            sorted_arr.append(right[j])\n",
    "            j += 1\n",
    "    sorted_arr.extend(left[i:])\n",
    "    sorted_arr.extend(right[j:])\n",
    "    return sorted_arr\n",
    "\n",
    "arr = [3, 6, 8, 10, 1, 2, 1]\n",
    "print(merge_sort(arr))  "
   ]
  },
  {
   "cell_type": "code",
   "execution_count": 46,
   "metadata": {},
   "outputs": [
    {
     "data": {
      "text/plain": [
       "6"
      ]
     },
     "execution_count": 46,
     "metadata": {},
     "output_type": "execute_result"
    }
   ],
   "source": [
    "#Kth Largest Element\n",
    "\n",
    "def kth_largest(arr,k):\n",
    "    arr.sort()\n",
    "    return arr[-k]\n",
    "\n",
    "kth_largest([8,2,1,9,6,4], 3)"
   ]
  },
  {
   "cell_type": "markdown",
   "metadata": {},
   "source": [
    "GRAPHS"
   ]
  },
  {
   "cell_type": "code",
   "execution_count": 47,
   "metadata": {},
   "outputs": [
    {
     "name": "stdout",
     "output_type": "stream",
     "text": [
      "BFS: [0, 1, 2, 3]\n",
      "DFS: [0, 1, 3, 2]\n"
     ]
    }
   ],
   "source": [
    "#BFS and DFS Traversal\n",
    "\n",
    "from collections import deque\n",
    "\n",
    "class Graph:\n",
    "    def __init__(self):\n",
    "        self.graph = {}\n",
    "\n",
    "    def add_edge(self, u, v):\n",
    "        if u not in self.graph:\n",
    "            self.graph[u] = []\n",
    "        self.graph[u].append(v)\n",
    "\n",
    "    def bfs(self, start):\n",
    "        visited, queue = set(), deque([start])\n",
    "        result = []\n",
    "        while queue:\n",
    "            node = queue.popleft()\n",
    "            if node not in visited:\n",
    "                visited.add(node)\n",
    "                result.append(node)\n",
    "                queue.extend(self.graph.get(node, []))\n",
    "        return result\n",
    "\n",
    "    def dfs(self, start, visited=None):\n",
    "        if visited is None:\n",
    "            visited = set()\n",
    "        if start not in visited:\n",
    "            visited.add(start)\n",
    "            result = [start]\n",
    "            for neighbor in self.graph.get(start, []):\n",
    "                result += self.dfs(neighbor, visited)\n",
    "            return result\n",
    "        return []\n",
    "\n",
    "g = Graph()\n",
    "g.add_edge(0, 1)\n",
    "g.add_edge(0, 2)\n",
    "g.add_edge(1, 3)\n",
    "g.add_edge(2, 3)\n",
    "\n",
    "print(\"BFS:\", g.bfs(0))  \n",
    "print(\"DFS:\", g.dfs(0))  \n"
   ]
  },
  {
   "cell_type": "code",
   "execution_count": 48,
   "metadata": {},
   "outputs": [
    {
     "name": "stdout",
     "output_type": "stream",
     "text": [
      "True\n"
     ]
    }
   ],
   "source": [
    "#Detect Cycle \n",
    "\n",
    "def detect_cycle_dfs(graph):\n",
    "    visited, rec_stack = set(), set()\n",
    "\n",
    "    def dfs(node):\n",
    "        if node in rec_stack:  \n",
    "            return True\n",
    "        if node in visited:\n",
    "            return False\n",
    "        \n",
    "        visited.add(node)\n",
    "        rec_stack.add(node)\n",
    "        for neighbor in graph.get(node, []):\n",
    "            if dfs(neighbor):\n",
    "                return True\n",
    "        rec_stack.remove(node)\n",
    "        return False\n",
    "\n",
    "    return any(dfs(node) for node in graph)\n",
    "\n",
    "graph = {0: [1], 1: [2], 2: [3], 3: [1]}  \n",
    "print(detect_cycle_dfs(graph))  \n"
   ]
  },
  {
   "cell_type": "code",
   "execution_count": 52,
   "metadata": {},
   "outputs": [
    {
     "name": "stdout",
     "output_type": "stream",
     "text": [
      "{0: 0, 1: 3, 2: 1, 3: 4}\n"
     ]
    }
   ],
   "source": [
    "#Djikstra's Algorithm\n",
    "\n",
    "import heapq\n",
    "\n",
    "def dijkstra(graph, start):\n",
    "    min_heap = [(0, start)]  # (cost, node)\n",
    "    distances = {node: float('inf') for node in graph}\n",
    "    distances[start] = 0\n",
    "\n",
    "    while min_heap:\n",
    "        cost, node = heapq.heappop(min_heap)\n",
    "        for neighbor, weight in graph[node]:\n",
    "            new_cost = cost + weight\n",
    "            if new_cost < distances[neighbor]:\n",
    "                distances[neighbor] = new_cost\n",
    "                heapq.heappush(min_heap, (new_cost, neighbor))\n",
    "\n",
    "    return distances\n",
    "\n",
    "graph = {\n",
    "    0: [(1, 4), (2, 1)],\n",
    "    1: [(3, 1)],\n",
    "    2: [(1, 2), (3, 5)],\n",
    "    3: []\n",
    "}\n",
    "print(dijkstra(graph, 0))  \n"
   ]
  },
  {
   "cell_type": "code",
   "execution_count": 53,
   "metadata": {},
   "outputs": [
    {
     "name": "stdout",
     "output_type": "stream",
     "text": [
      "[0, 1, 2, 3]\n"
     ]
    }
   ],
   "source": [
    "#Topological Sorting\n",
    "\n",
    "from collections import deque\n",
    "\n",
    "def topological_sort(graph):\n",
    "    in_degree = {node: 0 for node in graph}\n",
    "    for nodes in graph.values():\n",
    "        for node in nodes:\n",
    "            in_degree[node] += 1\n",
    "\n",
    "    queue = deque([node for node in graph if in_degree[node] == 0])\n",
    "    result = []\n",
    "\n",
    "    while queue:\n",
    "        node = queue.popleft()\n",
    "        result.append(node)\n",
    "        for neighbor in graph[node]:\n",
    "            in_degree[neighbor] -= 1\n",
    "            if in_degree[neighbor] == 0:\n",
    "                queue.append(neighbor)\n",
    "\n",
    "    return result if len(result) == len(graph) else []  \n",
    "\n",
    "graph = {0: [1, 2], 1: [3], 2: [3], 3: []}\n",
    "print(topological_sort(graph)) \n"
   ]
  },
  {
   "cell_type": "code",
   "execution_count": null,
   "metadata": {},
   "outputs": [
    {
     "name": "stdout",
     "output_type": "stream",
     "text": [
      "5\n"
     ]
    }
   ],
   "source": [
    "#Word Ladder\n",
    "\n",
    "from collections import deque\n",
    "\n",
    "def word_ladder(beginWord, endWord, wordList):\n",
    "    wordSet = set(wordList)\n",
    "    if endWord not in wordSet:\n",
    "        return 0\n",
    "\n",
    "    queue = deque([(beginWord, 1)])  \n",
    "\n",
    "    while queue:\n",
    "        word, steps = queue.popleft()\n",
    "        if word == endWord:\n",
    "            return steps\n",
    "\n",
    "        for i in range(len(word)):\n",
    "            for c in 'abcdefghijklmnopqrstuvwxyz':\n",
    "                new_word = word[:i] + c + word[i+1:]\n",
    "                if new_word in wordSet:\n",
    "                    queue.append((new_word, steps + 1))\n",
    "                    wordSet.remove(new_word)  \n",
    "\n",
    "    return 0  \n",
    "\n",
    "begin = \"hit\"\n",
    "end = \"cog\"\n",
    "wordList = [\"hot\", \"dot\", \"dog\", \"lot\", \"log\", \"cog\"]\n",
    "print(word_ladder(begin, end, wordList))  \n"
   ]
  },
  {
   "cell_type": "markdown",
   "metadata": {},
   "source": [
    "Dynamic Programming"
   ]
  },
  {
   "cell_type": "code",
   "execution_count": 55,
   "metadata": {},
   "outputs": [
    {
     "name": "stdout",
     "output_type": "stream",
     "text": [
      "8\n"
     ]
    }
   ],
   "source": [
    "#Climbing Stairs\n",
    "\n",
    "def climb_stairs(n):\n",
    "    if n <= 2:\n",
    "        return n\n",
    "    a, b = 1, 2\n",
    "    for _ in range(3, n + 1):\n",
    "        a, b = b, a + b\n",
    "    return b\n",
    "\n",
    "print(climb_stairs(5))  "
   ]
  },
  {
   "cell_type": "code",
   "execution_count": 56,
   "metadata": {},
   "outputs": [
    {
     "name": "stdout",
     "output_type": "stream",
     "text": [
      "3\n"
     ]
    }
   ],
   "source": [
    "#Longest Common Subseqeunce\n",
    "\n",
    "def longest_common_subsequence(text1, text2):\n",
    "    m, n = len(text1), len(text2)\n",
    "    dp = [[0] * (n + 1) for _ in range(m + 1)]\n",
    "\n",
    "    for i in range(1, m + 1):\n",
    "        for j in range(1, n + 1):\n",
    "            if text1[i - 1] == text2[j - 1]:\n",
    "                dp[i][j] = 1 + dp[i - 1][j - 1]\n",
    "            else:\n",
    "                dp[i][j] = max(dp[i - 1][j], dp[i][j - 1])\n",
    "\n",
    "    return dp[m][n]\n",
    "\n",
    "print(longest_common_subsequence(\"abcde\", \"ace\"))  \n"
   ]
  },
  {
   "cell_type": "code",
   "execution_count": 57,
   "metadata": {},
   "outputs": [
    {
     "name": "stdout",
     "output_type": "stream",
     "text": [
      "7\n"
     ]
    }
   ],
   "source": [
    "#0/1 Knapsack\n",
    "\n",
    "def knapsack(weights, values, W):\n",
    "    n = len(weights)\n",
    "    dp = [[0] * (W + 1) for _ in range(n + 1)]\n",
    "\n",
    "    for i in range(1, n + 1):\n",
    "        for w in range(W + 1):\n",
    "            if weights[i - 1] <= w:\n",
    "                dp[i][w] = max(dp[i - 1][w], values[i - 1] + dp[i - 1][w - weights[i - 1]])\n",
    "            else:\n",
    "                dp[i][w] = dp[i - 1][w]\n",
    "\n",
    "    return dp[n][W]\n",
    "\n",
    "print(knapsack([2, 3, 4, 5], [3, 4, 5, 6], 5)) \n"
   ]
  },
  {
   "cell_type": "code",
   "execution_count": 58,
   "metadata": {},
   "outputs": [
    {
     "name": "stdout",
     "output_type": "stream",
     "text": [
      "3\n"
     ]
    }
   ],
   "source": [
    "#Coin Change\n",
    "\n",
    "def coin_change(coins, amount):\n",
    "    dp = [float('inf')] * (amount + 1)\n",
    "    dp[0] = 0\n",
    "\n",
    "    for coin in coins:\n",
    "        for i in range(coin, amount + 1):\n",
    "            dp[i] = min(dp[i], dp[i - coin] + 1)\n",
    "\n",
    "    return dp[amount] if dp[amount] != float('inf') else -1\n",
    "\n",
    "print(coin_change([1, 2, 5], 11))  \n"
   ]
  },
  {
   "cell_type": "code",
   "execution_count": 59,
   "metadata": {},
   "outputs": [
    {
     "name": "stdout",
     "output_type": "stream",
     "text": [
      "12\n"
     ]
    }
   ],
   "source": [
    "#House Robber\n",
    "\n",
    "def house_robber(nums):\n",
    "    if not nums:\n",
    "        return 0\n",
    "    if len(nums) == 1:\n",
    "        return nums[0]\n",
    "    \n",
    "    dp = [0] * len(nums)\n",
    "    dp[0], dp[1] = nums[0], max(nums[0], nums[1])\n",
    "\n",
    "    for i in range(2, len(nums)):\n",
    "        dp[i] = max(dp[i - 1], dp[i - 2] + nums[i])\n",
    "\n",
    "    return dp[-1]\n",
    "\n",
    "print(house_robber([2, 7, 9, 3, 1])) \n"
   ]
  },
  {
   "cell_type": "markdown",
   "metadata": {},
   "source": [
    "#Greedy & Bit Manipulation"
   ]
  },
  {
   "cell_type": "code",
   "execution_count": 60,
   "metadata": {},
   "outputs": [
    {
     "name": "stdout",
     "output_type": "stream",
     "text": [
      "3\n"
     ]
    }
   ],
   "source": [
    "#Activity Selection\n",
    "\n",
    "def activity_selection(activities):\n",
    "    activities.sort(key=lambda x: x[1])  \n",
    "    selected = [activities[0]]\n",
    "    \n",
    "    for i in range(1, len(activities)):\n",
    "        if activities[i][0] >= selected[-1][1]:\n",
    "            selected.append(activities[i])\n",
    "    \n",
    "    return len(selected)\n",
    "\n",
    "print(activity_selection([(1, 3), (2, 5), (4, 6), (6, 7)]))  \n"
   ]
  },
  {
   "cell_type": "code",
   "execution_count": 61,
   "metadata": {},
   "outputs": [],
   "source": [
    "#Huffman Coding\n",
    "\n",
    "import heapq\n",
    "\n",
    "class Node:\n",
    "    def __init__(self, char, freq):\n",
    "        self.char = char\n",
    "        self.freq = freq\n",
    "        self.left = self.right = None\n",
    "\n",
    "    def __lt__(self, other):\n",
    "        return self.freq < other.freq\n",
    "\n",
    "def huffman_encoding(freq_map):\n",
    "    heap = [Node(char, freq) for char, freq in freq_map.items()]\n",
    "    heapq.heapify(heap)\n",
    "\n",
    "    while len(heap) > 1:\n",
    "        left, right = heapq.heappop(heap), heapq.heappop(heap)\n",
    "        new_node = Node(None, left.freq + right.freq)\n",
    "        new_node.left, new_node.right = left, right\n",
    "        heapq.heappush(heap, new_node)\n",
    "\n",
    "    return heap[0]\n",
    "\n",
    "freq_map = {'a': 5, 'b': 9, 'c': 12, 'd': 13, 'e': 16, 'f': 45}\n",
    "huffman_tree = huffman_encoding(freq_map)\n"
   ]
  },
  {
   "cell_type": "code",
   "execution_count": 62,
   "metadata": {},
   "outputs": [
    {
     "name": "stdout",
     "output_type": "stream",
     "text": [
      "4\n"
     ]
    }
   ],
   "source": [
    "#Single Number\n",
    "\n",
    "def single_number(nums):\n",
    "    res = 0\n",
    "    for num in nums:\n",
    "        res ^= num\n",
    "    return res\n",
    "\n",
    "print(single_number([4, 1, 2, 1, 2]))  \n"
   ]
  },
  {
   "cell_type": "code",
   "execution_count": 63,
   "metadata": {},
   "outputs": [
    {
     "name": "stdout",
     "output_type": "stream",
     "text": [
      "True\n"
     ]
    }
   ],
   "source": [
    "#Power of two\n",
    "\n",
    "def is_power_of_two(n):\n",
    "    return n > 0 and (n & (n - 1)) == 0\n",
    "\n",
    "print(is_power_of_two(16))  \n"
   ]
  },
  {
   "cell_type": "code",
   "execution_count": 64,
   "metadata": {},
   "outputs": [
    {
     "name": "stdout",
     "output_type": "stream",
     "text": [
      "3\n"
     ]
    }
   ],
   "source": [
    "#Number of 1 bits\n",
    "\n",
    "def hamming_weight(n):\n",
    "    count = 0\n",
    "    while n:\n",
    "        count += n & 1\n",
    "        n >>= 1\n",
    "    return count\n",
    "\n",
    "print(hamming_weight(11)) \n"
   ]
  },
  {
   "cell_type": "markdown",
   "metadata": {},
   "source": [
    "Miscellaneous"
   ]
  },
  {
   "cell_type": "code",
   "execution_count": 65,
   "metadata": {},
   "outputs": [
    {
     "name": "stdout",
     "output_type": "stream",
     "text": [
      "True\n"
     ]
    }
   ],
   "source": [
    "#Implement Trie or Prefix Tree\n",
    "\n",
    "class TrieNode:\n",
    "    def __init__(self):\n",
    "        self.children = {}\n",
    "        self.is_end = False\n",
    "\n",
    "class Trie:\n",
    "    def __init__(self):\n",
    "        self.root = TrieNode()\n",
    "\n",
    "    def insert(self, word):\n",
    "        node = self.root\n",
    "        for char in word:\n",
    "            if char not in node.children:\n",
    "                node.children[char] = TrieNode()\n",
    "            node = node.children[char]\n",
    "        node.is_end = True\n",
    "\n",
    "    def search(self, word):\n",
    "        node = self.root\n",
    "        for char in word:\n",
    "            if char not in node.children:\n",
    "                return False\n",
    "            node = node.children[char]\n",
    "        return node.is_end\n",
    "\n",
    "trie = Trie()\n",
    "trie.insert(\"apple\")\n",
    "print(trie.search(\"apple\"))  \n"
   ]
  },
  {
   "cell_type": "code",
   "execution_count": 66,
   "metadata": {},
   "outputs": [
    {
     "name": "stdout",
     "output_type": "stream",
     "text": [
      "1\n"
     ]
    }
   ],
   "source": [
    "#LRU Cache\n",
    "\n",
    "from collections import OrderedDict\n",
    "\n",
    "class LRUCache:\n",
    "    def __init__(self, capacity):\n",
    "        self.cache = OrderedDict()\n",
    "        self.capacity = capacity\n",
    "\n",
    "    def get(self, key):\n",
    "        if key in self.cache:\n",
    "            self.cache.move_to_end(key)\n",
    "            return self.cache[key]\n",
    "        return -1\n",
    "\n",
    "    def put(self, key, value):\n",
    "        if key in self.cache:\n",
    "            self.cache.move_to_end(key)\n",
    "        elif len(self.cache) >= self.capacity:\n",
    "            self.cache.popitem(last=False)\n",
    "        self.cache[key] = value\n",
    "\n",
    "cache = LRUCache(2)\n",
    "cache.put(1, 1)\n",
    "cache.put(2, 2)\n",
    "print(cache.get(1))  \n"
   ]
  },
  {
   "cell_type": "code",
   "execution_count": 67,
   "metadata": {},
   "outputs": [
    {
     "name": "stdout",
     "output_type": "stream",
     "text": [
      "2\n",
      "2.5\n"
     ]
    }
   ],
   "source": [
    "#Median of two sorted arrays\n",
    "\n",
    "def findMedianSortedArrays(nums1, nums2):\n",
    "    nums = sorted(nums1 + nums2)\n",
    "    mid = len(nums) // 2\n",
    "    return (nums[mid] + nums[mid - 1]) / 2 if len(nums) % 2 == 0 else nums[mid]\n",
    "\n",
    "print(findMedianSortedArrays([1, 3], [2]))  \n",
    "print(findMedianSortedArrays([1, 2], [3, 4]))  \n"
   ]
  },
  {
   "cell_type": "code",
   "execution_count": 68,
   "metadata": {},
   "outputs": [
    {
     "name": "stdout",
     "output_type": "stream",
     "text": [
      "10\n"
     ]
    }
   ],
   "source": [
    "#Largest Rectangle in Histogram\n",
    "\n",
    "def largestRectangleArea(heights):\n",
    "    stack, max_area = [], 0\n",
    "    heights.append(0)  \n",
    "\n",
    "    for i, h in enumerate(heights):\n",
    "        while stack and heights[stack[-1]] > h:\n",
    "            height = heights[stack.pop()]\n",
    "            width = i if not stack else i - stack[-1] - 1\n",
    "            max_area = max(max_area, height * width)\n",
    "        stack.append(i)\n",
    "\n",
    "    return max_area\n",
    "\n",
    "print(largestRectangleArea([2, 1, 5, 6, 2, 3]))  \n"
   ]
  },
  {
   "cell_type": "code",
   "execution_count": null,
   "metadata": {},
   "outputs": [],
   "source": [
    "#Merge K Sorted LL\n",
    "\n",
    "import heapq\n",
    "\n",
    "class ListNode:\n",
    "    def __init__(self, val=0, next=None):\n",
    "        self.val = val\n",
    "        self.next = next\n",
    "\n",
    "    def __lt__(self, other):  \n",
    "        return self.val < other.val\n",
    "\n",
    "def mergeKLists(lists):\n",
    "    heap = []\n",
    "    \n",
    "    for l in lists:\n",
    "        if l:\n",
    "            heapq.heappush(heap, l)\n",
    "\n",
    "    dummy = ListNode()\n",
    "    curr = dummy\n",
    "\n",
    "    while heap:\n",
    "        node = heapq.heappop(heap)\n",
    "        curr.next = node\n",
    "        curr = curr.next\n",
    "        if node.next:\n",
    "            heapq.heappush(heap, node.next)\n",
    "\n",
    "    return dummy.next\n",
    "\n",
    "def array_to_linked_list(arr):\n",
    "    if not arr:\n",
    "        return None\n",
    "    head = ListNode(arr[0])\n",
    "    curr = head\n",
    "    for val in arr[1:]:\n",
    "        curr.next = ListNode(val)\n",
    "        curr = curr.next\n",
    "    return head\n",
    "\n",
    "def print_linked_list(head):\n",
    "    res = []\n",
    "    while head:\n",
    "        res.append(head.val)\n",
    "        head = head.next\n",
    "    print(res)\n",
    "\n",
    "lists = [array_to_linked_list([1, 4, 5]), array_to_linked_list([1, 3, 4]), array_to_linked_list([2, 6])]\n",
    "merged_head = mergeKLists(lists)\n",
    "print_linked_list(merged_head)  "
   ]
  }
 ],
 "metadata": {
  "kernelspec": {
   "display_name": "Python 3",
   "language": "python",
   "name": "python3"
  },
  "language_info": {
   "codemirror_mode": {
    "name": "ipython",
    "version": 3
   },
   "file_extension": ".py",
   "mimetype": "text/x-python",
   "name": "python",
   "nbconvert_exporter": "python",
   "pygments_lexer": "ipython3",
   "version": "3.12.4"
  }
 },
 "nbformat": 4,
 "nbformat_minor": 2
}
